{
 "cells": [
  {
   "cell_type": "markdown",
   "id": "2e848cfa",
   "metadata": {},
   "source": [
    "# If Number is postive,negative or zero "
   ]
  },
  {
   "cell_type": "code",
   "execution_count": 1,
   "id": "064607f8",
   "metadata": {},
   "outputs": [
    {
     "name": "stdout",
     "output_type": "stream",
     "text": [
      "Enter a number: 10\n",
      "Postive Number\n"
     ]
    }
   ],
   "source": [
    "num=float(input(\"Enter a number: \"))\n",
    "if num >0:\n",
    "    print(\"Postive Number\")\n",
    "elif num==0:\n",
    "    print(\"Zero\")\n",
    "else:\n",
    "    print(\"Negative Number\")"
   ]
  },
  {
   "cell_type": "code",
   "execution_count": 2,
   "id": "ba67b362",
   "metadata": {},
   "outputs": [
    {
     "name": "stdout",
     "output_type": "stream",
     "text": [
      "Enter a number: 0\n",
      "Zero\n"
     ]
    }
   ],
   "source": [
    "num=float(input(\"Enter a number: \"))\n",
    "if num >0:\n",
    "    print(\"Postive Number\")\n",
    "elif num==0:\n",
    "    print(\"Zero\")\n",
    "else:\n",
    "    print(\"Negative Number\")"
   ]
  },
  {
   "cell_type": "markdown",
   "id": "41ccbd38",
   "metadata": {},
   "source": [
    "# If Number is Odd or Even "
   ]
  },
  {
   "cell_type": "code",
   "execution_count": 3,
   "id": "534a8620",
   "metadata": {},
   "outputs": [
    {
     "name": "stdout",
     "output_type": "stream",
     "text": [
      "Enter a number: 21\n",
      "21 is Odd\n"
     ]
    }
   ],
   "source": [
    "num=int(input(\"Enter a number: \"))\n",
    "if(num%2)==0:\n",
    "    print(\"{0} is Even\".format(num))\n",
    "else:\n",
    "    print(\"{0} is Odd\".format(num))\n"
   ]
  },
  {
   "cell_type": "code",
   "execution_count": 4,
   "id": "8e6915b4",
   "metadata": {},
   "outputs": [
    {
     "name": "stdout",
     "output_type": "stream",
     "text": [
      "Enter a number: 10\n",
      "10 is Even\n"
     ]
    }
   ],
   "source": [
    "num=int(input(\"Enter a number: \"))\n",
    "if(num%2)==0:\n",
    "    print(\"{0} is Even\".format(num))\n",
    "else:\n",
    "    print(\"{0} is Odd\".format(num))\n"
   ]
  },
  {
   "cell_type": "markdown",
   "id": "675c9957",
   "metadata": {},
   "source": [
    "#  Check if Number is  Leap Year "
   ]
  },
  {
   "cell_type": "code",
   "execution_count": 22,
   "id": "c6f9764a",
   "metadata": {},
   "outputs": [
    {
     "name": "stdout",
     "output_type": "stream",
     "text": [
      "Enter the Year: \n",
      "2024\n",
      "\n",
      "It is a Leap Year\n"
     ]
    }
   ],
   "source": [
    "print(\"Enter the Year: \")\n",
    "y=int(input())\n",
    "if y%4==0 and y%100!=0:\n",
    "    print(\"\\nIt is a Leap Year\")\n",
    "elif y%400==0:\n",
    "    print(\"\\nIt is not a Leap Year\")\n",
    "else:\n",
    "    print(\"\\nIt is not a Leap Year\")"
   ]
  },
  {
   "cell_type": "markdown",
   "id": "3cda6017",
   "metadata": {},
   "source": [
    "# Check if Number is Prime Number "
   ]
  },
  {
   "cell_type": "code",
   "execution_count": 24,
   "id": "2e7b45ad",
   "metadata": {},
   "outputs": [
    {
     "name": "stdout",
     "output_type": "stream",
     "text": [
      "Enter any Number10\n",
      "10 is not a prime number\n"
     ]
    }
   ],
   "source": [
    "number=int(input(\"Enter any Number\"))\n",
    "if number>1:\n",
    "    for i in range(2,number):\n",
    "        if(number%i)==0:\n",
    "            print(number,\"is not a prime number\")\n",
    "            break\n",
    "        else:\n",
    "            print(number,\"is a prime number\")\n",
    "else:\n",
    "            print(number,\"is not a prime number\")"
   ]
  },
  {
   "cell_type": "code",
   "execution_count": 29,
   "id": "1fe2ffa1",
   "metadata": {},
   "outputs": [
    {
     "name": "stdout",
     "output_type": "stream",
     "text": [
      "Enter any Number3\n",
      "3 is a prime number\n"
     ]
    }
   ],
   "source": [
    "number=int(input(\"Enter any Number\"))\n",
    "if number>1:\n",
    "    for i in range(2,number):\n",
    "        if(number%i)==0:\n",
    "            print(number,\"is not a prime number\")\n",
    "            break\n",
    "        else:\n",
    "            print(number,\"is a prime number\")\n",
    "else:\n",
    "            print(number,\"is not a prime number\")"
   ]
  },
  {
   "cell_type": "markdown",
   "id": "01141551",
   "metadata": {},
   "source": [
    "# Print all Prime Numbers in an Interval of 1-10000"
   ]
  },
  {
   "cell_type": "code",
   "execution_count": 44,
   "id": "d7a3b14c",
   "metadata": {},
   "outputs": [
    {
     "name": "stdout",
     "output_type": "stream",
     "text": [
      "Prime numbers between 1 and 10000 are:\n",
      "10000\n"
     ]
    }
   ],
   "source": [
    "lower=1\n",
    "upper=10000\n",
    "print(\"Prime numbers between\",lower,\"and\",upper,\"are:\")\n",
    "for num in range(lower,upper+1):\n",
    "    if num>1:\n",
    "        for i in range(2,num):\n",
    "            if (num%i)==0:\n",
    "                break\n",
    "else:\n",
    "    print(num)"
   ]
  },
  {
   "cell_type": "code",
   "execution_count": null,
   "id": "e0b53139",
   "metadata": {},
   "outputs": [],
   "source": []
  }
 ],
 "metadata": {
  "kernelspec": {
   "display_name": "Python 3 (ipykernel)",
   "language": "python",
   "name": "python3"
  },
  "language_info": {
   "codemirror_mode": {
    "name": "ipython",
    "version": 3
   },
   "file_extension": ".py",
   "mimetype": "text/x-python",
   "name": "python",
   "nbconvert_exporter": "python",
   "pygments_lexer": "ipython3",
   "version": "3.10.9"
  }
 },
 "nbformat": 4,
 "nbformat_minor": 5
}
