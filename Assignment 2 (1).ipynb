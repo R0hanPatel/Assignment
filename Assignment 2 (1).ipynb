{
 "cells": [
  {
   "cell_type": "markdown",
   "id": "746e6cb2",
   "metadata": {},
   "source": [
    "# KILOMETERS TO MILES"
   ]
  },
  {
   "cell_type": "code",
   "execution_count": 4,
   "id": "42e02779",
   "metadata": {},
   "outputs": [
    {
     "name": "stdout",
     "output_type": "stream",
     "text": [
      "15.00 km is equal to 9.32 miles\n"
     ]
    }
   ],
   "source": [
    "km = 15\n",
    "conversion_factor=0.621371\n",
    "miles=km * conversion_factor \n",
    "print('%0.2f km is equal to %0.2f miles'%(km,miles))"
   ]
  },
  {
   "cell_type": "code",
   "execution_count": 5,
   "id": "30454108",
   "metadata": {},
   "outputs": [
    {
     "name": "stdout",
     "output_type": "stream",
     "text": [
      "Enter kilometers\n",
      "10\n",
      "6.21 miles\n"
     ]
    }
   ],
   "source": [
    "print(\"Enter kilometers\")\n",
    "kms=int(input())\n",
    "miles= 0.621*kms\n",
    "print(miles,\"miles\")"
   ]
  },
  {
   "cell_type": "markdown",
   "id": "02e6e112",
   "metadata": {},
   "source": [
    "# CONVERT CELSIUS TO FAHRENHEIT  "
   ]
  },
  {
   "cell_type": "code",
   "execution_count": 6,
   "id": "accf9969",
   "metadata": {},
   "outputs": [
    {
     "name": "stdout",
     "output_type": "stream",
     "text": [
      "Enter the Temperature in Celsius:\n",
      "10\n",
      "Temperature in Fahrenheit : 50.0\n"
     ]
    }
   ],
   "source": [
    "celsius=int(input(\"Enter the Temperature in Celsius:\\n\"))\n",
    "fahrenheit=(1.8 * celsius)+32\n",
    "print(\"Temperature in Fahrenheit :\",fahrenheit)"
   ]
  },
  {
   "cell_type": "markdown",
   "id": "9ca83257",
   "metadata": {},
   "source": [
    "# DISPLAY CALENDAR  "
   ]
  },
  {
   "cell_type": "code",
   "execution_count": 7,
   "id": "80cf1580",
   "metadata": {},
   "outputs": [
    {
     "name": "stdout",
     "output_type": "stream",
     "text": [
      "Please Enter the year Number2023\n",
      "Please Enter the month04\n",
      "     April 2023\n",
      "Mo Tu We Th Fr Sa Su\n",
      "                1  2\n",
      " 3  4  5  6  7  8  9\n",
      "10 11 12 13 14 15 16\n",
      "17 18 19 20 21 22 23\n",
      "24 25 26 27 28 29 30\n",
      "\n"
     ]
    }
   ],
   "source": [
    "import calendar\n",
    "year=int(input(\"Please Enter the year Number\"))\n",
    "month=int(input(\"Please Enter the month\"))\n",
    "print(calendar.month(year,month))"
   ]
  },
  {
   "cell_type": "markdown",
   "id": "0e9c89aa",
   "metadata": {},
   "source": [
    "# QUADRATIC EQUATION "
   ]
  },
  {
   "cell_type": "code",
   "execution_count": 9,
   "id": "c996a65c",
   "metadata": {},
   "outputs": [
    {
     "name": "stdout",
     "output_type": "stream",
     "text": [
      "The solution are(-3+0j) and(-2+0j)\n"
     ]
    }
   ],
   "source": [
    "import cmath\n",
    "a=1\n",
    "b=5\n",
    "c=6\n",
    "d=(b**2)-(4*a*c)\n",
    "sol1 =(-b-cmath.sqrt(d))/(2*a)\n",
    "sol2 =(-b+cmath.sqrt(d))/(2*a)\n",
    "print('The solution are{0} and{1}'.format(sol1,sol2))"
   ]
  },
  {
   "cell_type": "markdown",
   "id": "76f3a4d3",
   "metadata": {},
   "source": [
    "# SWAP USING TEMPORARY VARIABLES"
   ]
  },
  {
   "cell_type": "code",
   "execution_count": 8,
   "id": "6206dee0",
   "metadata": {},
   "outputs": [
    {
     "name": "stdout",
     "output_type": "stream",
     "text": [
      "Number 1 before swapping: 10\n",
      "Number 2 before swapping: 20\n",
      "\n",
      "Number1 after swapping: 20\n",
      "\n",
      "Number2 after swapping: 10\n"
     ]
    }
   ],
   "source": [
    "Number1=10\n",
    "Number2=20\n",
    "print(\"Number 1 before swapping:\",Number1)\n",
    "print(\"Number 2 before swapping:\",Number2)\n",
    "(Number1,Number2) = (Number2,Number1)\n",
    "print(\"\\nNumber1 after swapping:\",Number1)\n",
    "print(\"\\nNumber2 after swapping:\",Number2)"
   ]
  },
  {
   "cell_type": "code",
   "execution_count": null,
   "id": "d9417b5f",
   "metadata": {},
   "outputs": [],
   "source": []
  }
 ],
 "metadata": {
  "kernelspec": {
   "display_name": "Python 3 (ipykernel)",
   "language": "python",
   "name": "python3"
  },
  "language_info": {
   "codemirror_mode": {
    "name": "ipython",
    "version": 3
   },
   "file_extension": ".py",
   "mimetype": "text/x-python",
   "name": "python",
   "nbconvert_exporter": "python",
   "pygments_lexer": "ipython3",
   "version": "3.10.9"
  }
 },
 "nbformat": 4,
 "nbformat_minor": 5
}
