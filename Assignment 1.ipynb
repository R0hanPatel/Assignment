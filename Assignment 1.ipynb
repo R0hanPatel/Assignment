{
 "cells": [
  {
   "cell_type": "markdown",
   "id": "c0c4e93c",
   "metadata": {},
   "source": [
    "# HELLO WORLD\n"
   ]
  },
  {
   "cell_type": "code",
   "execution_count": 1,
   "id": "b5d5ed8d",
   "metadata": {},
   "outputs": [
    {
     "name": "stdout",
     "output_type": "stream",
     "text": [
      "HELLO WORLD\n"
     ]
    }
   ],
   "source": [
    "print(\"HELLO WORLD\")"
   ]
  },
  {
   "cell_type": "markdown",
   "id": "88b20354",
   "metadata": {},
   "source": [
    "# ARITHMETICAL OPERATIONS "
   ]
  },
  {
   "cell_type": "code",
   "execution_count": 2,
   "id": "eb12751b",
   "metadata": {},
   "outputs": [
    {
     "name": "stdout",
     "output_type": "stream",
     "text": [
      "The sum of 100 and 200 is: 300\n"
     ]
    }
   ],
   "source": [
    "Var1=100\n",
    "Var2=200\n",
    "sum=Var1+Var2\n",
    "print(\"The sum of\",Var1,\"and\",Var2,\"is:\",sum)"
   ]
  },
  {
   "cell_type": "code",
   "execution_count": 8,
   "id": "5ff30436",
   "metadata": {},
   "outputs": [
    {
     "name": "stdout",
     "output_type": "stream",
     "text": [
      "The difference between 800 and 500 is: 300\n"
     ]
    }
   ],
   "source": [
    "Var1=800\n",
    "Var2=500\n",
    "diff=Var1-Var2\n",
    "print(\"The difference between\",Var1,\"and\",Var2,\"is:\",diff)"
   ]
  },
  {
   "cell_type": "code",
   "execution_count": 7,
   "id": "225ec758",
   "metadata": {},
   "outputs": [
    {
     "name": "stdout",
     "output_type": "stream",
     "text": [
      "The product of 100 and 3 is: 300\n"
     ]
    }
   ],
   "source": [
    "Var1=100\n",
    "Var2=3\n",
    "product=Var1*Var2\n",
    "print(\"The product of\",Var1,\"and\",Var2,\"is:\",product)"
   ]
  },
  {
   "cell_type": "code",
   "execution_count": 10,
   "id": "37dc1304",
   "metadata": {},
   "outputs": [
    {
     "name": "stdout",
     "output_type": "stream",
     "text": [
      "The quotient of 100 and 200 is: 0.5\n"
     ]
    }
   ],
   "source": [
    "Var1=100\n",
    "Var2=200\n",
    "quotient=Var1/Var2\n",
    "print(\"The quotient of\",Var1,\"and\",Var2,\"is:\",quotient)"
   ]
  },
  {
   "cell_type": "code",
   "execution_count": 11,
   "id": "23bee604",
   "metadata": {},
   "outputs": [
    {
     "name": "stdout",
     "output_type": "stream",
     "text": [
      "The remainder of 100 and 200 is: 100\n"
     ]
    }
   ],
   "source": [
    "Var1=100\n",
    "Var2=200\n",
    "rem=Var1%Var2\n",
    "print(\"The remainder of\",Var1,\"and\",Var2,\"is:\",rem)"
   ]
  },
  {
   "cell_type": "code",
   "execution_count": 14,
   "id": "59cfa948",
   "metadata": {},
   "outputs": [
    {
     "name": "stdout",
     "output_type": "stream",
     "text": [
      "The exponentiation of 100 and 2 is: 10000\n"
     ]
    }
   ],
   "source": [
    "Var1=100\n",
    "Var2=2\n",
    "exp=Var1**Var2\n",
    "print(\"The exponentiation of\",Var1,\"and\",Var2,\"is:\",exp)"
   ]
  },
  {
   "cell_type": "code",
   "execution_count": 16,
   "id": "aabfbd03",
   "metadata": {},
   "outputs": [
    {
     "name": "stdout",
     "output_type": "stream",
     "text": [
      "The floor division of 100 and 200 is: 0\n"
     ]
    }
   ],
   "source": [
    "Var1=100\n",
    "Var2=200\n",
    "floordiv=Var1//Var2\n",
    "print(\"The floor division of\",Var1,\"and\",Var2,\"is:\",floordiv)"
   ]
  },
  {
   "cell_type": "markdown",
   "id": "3f013ec8",
   "metadata": {},
   "source": [
    "# AREA OF A TRIANGLE "
   ]
  },
  {
   "cell_type": "code",
   "execution_count": 18,
   "id": "329ca8f0",
   "metadata": {},
   "outputs": [
    {
     "name": "stdout",
     "output_type": "stream",
     "text": [
      "Input the base :20\n",
      "Input the height :40\n",
      "area= 400.0\n"
     ]
    }
   ],
   "source": [
    "b=int(input(\"Input the base :\"))\n",
    "h=int(input(\"Input the height :\"))\n",
    "area =b*h/2\n",
    "print(\"area=\",area)"
   ]
  },
  {
   "cell_type": "markdown",
   "id": "f4e3870e",
   "metadata": {},
   "source": [
    "# SWAP TWO VARIABLES"
   ]
  },
  {
   "cell_type": "code",
   "execution_count": 19,
   "id": "c13bebf9",
   "metadata": {},
   "outputs": [
    {
     "name": "stdout",
     "output_type": "stream",
     "text": [
      "\n",
      "Before swap a= 100 and b= 200\n",
      "\\After swap a= 200 and b= 100\n"
     ]
    }
   ],
   "source": [
    "a=100\n",
    "b=200\n",
    "print(\"\\nBefore swap a= %d and b= %d\" %(a,b))\n",
    "a,b=b,a\n",
    "print(\"\\After swap a= %d and b= %d\" %(a,b))"
   ]
  },
  {
   "cell_type": "markdown",
   "id": "860ade37",
   "metadata": {},
   "source": [
    "# RANDOM NUMBER"
   ]
  },
  {
   "cell_type": "code",
   "execution_count": 21,
   "id": "715757a7",
   "metadata": {},
   "outputs": [
    {
     "name": "stdout",
     "output_type": "stream",
     "text": [
      "0.7744946558821119\n"
     ]
    }
   ],
   "source": [
    "import random\n",
    "n=random.random()\n",
    "print(n)"
   ]
  },
  {
   "cell_type": "code",
   "execution_count": null,
   "id": "926e20cc",
   "metadata": {},
   "outputs": [],
   "source": []
  }
 ],
 "metadata": {
  "kernelspec": {
   "display_name": "Python 3 (ipykernel)",
   "language": "python",
   "name": "python3"
  },
  "language_info": {
   "codemirror_mode": {
    "name": "ipython",
    "version": 3
   },
   "file_extension": ".py",
   "mimetype": "text/x-python",
   "name": "python",
   "nbconvert_exporter": "python",
   "pygments_lexer": "ipython3",
   "version": "3.10.9"
  }
 },
 "nbformat": 4,
 "nbformat_minor": 5
}
